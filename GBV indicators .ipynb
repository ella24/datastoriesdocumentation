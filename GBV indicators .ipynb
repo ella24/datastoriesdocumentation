{
 "cells": [
  {
   "cell_type": "markdown",
   "metadata": {},
   "source": [
    "# DHS Program Data "
   ]
  },
  {
   "cell_type": "code",
   "execution_count": 22,
   "metadata": {},
   "outputs": [],
   "source": [
    "import json\n",
    "from urllib.request import urlopen\n",
    "import pandas as pd"
   ]
  },
  {
   "cell_type": "code",
   "execution_count": 23,
   "metadata": {},
   "outputs": [],
   "source": [
    "indicators_url= r'https://api.dhsprogram.com/rest/dhs/indicators'"
   ]
  },
  {
   "cell_type": "code",
   "execution_count": 24,
   "metadata": {},
   "outputs": [],
   "source": [
    "#Obtain and Parse the list into a Python Object.\n",
    "req = urlopen(indicators_url)\n",
    "resp = json.loads(req.read())\n",
    "my_data = resp['Data']"
   ]
  },
  {
   "cell_type": "code",
   "execution_count": 39,
   "metadata": {},
   "outputs": [],
   "source": [
    "# for c in my_data:\n",
    "#    (print(c['Level1']+ ' , '+ c['Label']+ ' , ' + c['IndicatorId']+ ' , ' + c['Definition']))"
   ]
  },
  {
   "cell_type": "code",
   "execution_count": 45,
   "metadata": {},
   "outputs": [
    {
     "data": {
      "text/html": [
       "<div>\n",
       "<style scoped>\n",
       "    .dataframe tbody tr th:only-of-type {\n",
       "        vertical-align: middle;\n",
       "    }\n",
       "\n",
       "    .dataframe tbody tr th {\n",
       "        vertical-align: top;\n",
       "    }\n",
       "\n",
       "    .dataframe thead th {\n",
       "        text-align: right;\n",
       "    }\n",
       "</style>\n",
       "<table border=\"1\" class=\"dataframe\">\n",
       "  <thead>\n",
       "    <tr style=\"text-align: right;\">\n",
       "      <th></th>\n",
       "      <th>Definition</th>\n",
       "      <th>Denominator</th>\n",
       "      <th>DenominatorUnweightedId</th>\n",
       "      <th>DenominatorWeightedId</th>\n",
       "      <th>IndicatorId</th>\n",
       "      <th>IndicatorOldId</th>\n",
       "      <th>IndicatorOrder</th>\n",
       "      <th>IndicatorSpecial1Id</th>\n",
       "      <th>IndicatorSpecial2Id</th>\n",
       "      <th>IndicatorTotalId</th>\n",
       "      <th>...</th>\n",
       "      <th>Label</th>\n",
       "      <th>Level1</th>\n",
       "      <th>Level2</th>\n",
       "      <th>Level3</th>\n",
       "      <th>MeasurementType</th>\n",
       "      <th>NumberScale</th>\n",
       "      <th>QuickStatOrder</th>\n",
       "      <th>SDRID</th>\n",
       "      <th>ShortName</th>\n",
       "      <th>TagIds</th>\n",
       "    </tr>\n",
       "  </thead>\n",
       "  <tbody>\n",
       "    <tr>\n",
       "      <th>0</th>\n",
       "      <td>Age-specific fertility rate for the three year...</td>\n",
       "      <td>Per thousand women years exposed in the period...</td>\n",
       "      <td></td>\n",
       "      <td></td>\n",
       "      <td>FE_FRTR_W_A10</td>\n",
       "      <td></td>\n",
       "      <td>11763005</td>\n",
       "      <td></td>\n",
       "      <td></td>\n",
       "      <td></td>\n",
       "      <td>...</td>\n",
       "      <td>Age specific fertility rate: 10-14</td>\n",
       "      <td>Fertility</td>\n",
       "      <td>Fertility rates</td>\n",
       "      <td>Women</td>\n",
       "      <td>Rate</td>\n",
       "      <td>0</td>\n",
       "      <td></td>\n",
       "      <td>FEFRTRWA10</td>\n",
       "      <td>ASFR 10-14</td>\n",
       "      <td>80</td>\n",
       "    </tr>\n",
       "    <tr>\n",
       "      <th>1</th>\n",
       "      <td>Age-specific fertility rate for the three year...</td>\n",
       "      <td>Per thousand women years exposed in the period...</td>\n",
       "      <td></td>\n",
       "      <td></td>\n",
       "      <td>FE_FRTR_W_A15</td>\n",
       "      <td>19165001</td>\n",
       "      <td>11763010</td>\n",
       "      <td></td>\n",
       "      <td></td>\n",
       "      <td></td>\n",
       "      <td>...</td>\n",
       "      <td>Age specific fertility rate: 15-19</td>\n",
       "      <td>Fertility</td>\n",
       "      <td>Fertility rates</td>\n",
       "      <td>Women</td>\n",
       "      <td>Rate</td>\n",
       "      <td>0</td>\n",
       "      <td></td>\n",
       "      <td>FEFRTRWA15</td>\n",
       "      <td>ASFR 15-19</td>\n",
       "      <td>74, 1, 7, 81, 80</td>\n",
       "    </tr>\n",
       "  </tbody>\n",
       "</table>\n",
       "<p>2 rows × 22 columns</p>\n",
       "</div>"
      ],
      "text/plain": [
       "                                          Definition  \\\n",
       "0  Age-specific fertility rate for the three year...   \n",
       "1  Age-specific fertility rate for the three year...   \n",
       "\n",
       "                                         Denominator DenominatorUnweightedId  \\\n",
       "0  Per thousand women years exposed in the period...                           \n",
       "1  Per thousand women years exposed in the period...                           \n",
       "\n",
       "  DenominatorWeightedId    IndicatorId IndicatorOldId  IndicatorOrder  \\\n",
       "0                        FE_FRTR_W_A10                       11763005   \n",
       "1                        FE_FRTR_W_A15       19165001        11763010   \n",
       "\n",
       "  IndicatorSpecial1Id IndicatorSpecial2Id IndicatorTotalId        ...         \\\n",
       "0                                                                 ...          \n",
       "1                                                                 ...          \n",
       "\n",
       "                                Label     Level1           Level2 Level3  \\\n",
       "0  Age specific fertility rate: 10-14  Fertility  Fertility rates  Women   \n",
       "1  Age specific fertility rate: 15-19  Fertility  Fertility rates  Women   \n",
       "\n",
       "  MeasurementType NumberScale QuickStatOrder       SDRID   ShortName  \\\n",
       "0            Rate           0                 FEFRTRWA10  ASFR 10-14   \n",
       "1            Rate           0                 FEFRTRWA15  ASFR 15-19   \n",
       "\n",
       "             TagIds  \n",
       "0                80  \n",
       "1  74, 1, 7, 81, 80  \n",
       "\n",
       "[2 rows x 22 columns]"
      ]
     },
     "execution_count": 45,
     "metadata": {},
     "output_type": "execute_result"
    }
   ],
   "source": [
    "df = pd.DataFrame(my_data)\n",
    "df.head(2)"
   ]
  },
  {
   "cell_type": "code",
   "execution_count": 44,
   "metadata": {},
   "outputs": [
    {
     "data": {
      "text/plain": [
       "Family Planning                 702\n",
       "HIV/AIDS                        355\n",
       "Child Health                    320\n",
       "Household Characteristics       238\n",
       "Water and Sanitation            188\n",
       "Malaria                         161\n",
       "Child Nutrition                 157\n",
       "Domestic Violence               152\n",
       "Reproductive Health             149\n",
       "Education                       146\n",
       "Infant and Child Mortality      133\n",
       "Fertility                       130\n",
       "Women's Empowerment             125\n",
       "Marriage                        118\n",
       "Employment                      108\n",
       "Female Genital Cutting          100\n",
       "Fertility Preferences            79\n",
       "Adult Health                     76\n",
       "Sexual Activity                  73\n",
       "Survey Characteristics           71\n",
       "Adult Nutrition                  50\n",
       "Child Protection                 47\n",
       "Communication                    38\n",
       "Adult and Maternal Mortality     27\n",
       "Name: Level1, dtype: int64"
      ]
     },
     "execution_count": 44,
     "metadata": {},
     "output_type": "execute_result"
    }
   ],
   "source": [
    "df['Level1'].value_counts()"
   ]
  },
  {
   "cell_type": "code",
   "execution_count": 65,
   "metadata": {},
   "outputs": [],
   "source": [
    "df.to_csv('DHS_GBV_Indicators.csv')"
   ]
  },
  {
   "cell_type": "code",
   "execution_count": null,
   "metadata": {},
   "outputs": [],
   "source": []
  }
 ],
 "metadata": {
  "kernelspec": {
   "display_name": "Python 3",
   "language": "python",
   "name": "python3"
  },
  "language_info": {
   "codemirror_mode": {
    "name": "ipython",
    "version": 3
   },
   "file_extension": ".py",
   "mimetype": "text/x-python",
   "name": "python",
   "nbconvert_exporter": "python",
   "pygments_lexer": "ipython3",
   "version": "3.6.5"
  }
 },
 "nbformat": 4,
 "nbformat_minor": 2
}
